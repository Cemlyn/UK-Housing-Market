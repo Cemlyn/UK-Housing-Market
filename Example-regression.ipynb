{
 "cells": [
  {
   "cell_type": "code",
   "execution_count": 34,
   "metadata": {},
   "outputs": [
    {
     "data": {
      "image/png": "[encoded data removed]",
      "text/plain": [
       "<Figure size 432x288 with 1 Axes>"
      ]
     },
     "metadata": {
      "needs_background": "light"
     },
     "output_type": "display_data"
    }
   ],
   "source": [
    "import numpy as np\n",
    "import scipy\n",
    "import math\n",
    "import random\n",
    "random.seed(32)\n",
    "from matplotlib import pyplot as plt\n",
    "x = np.arange(0,10,0.5)\n",
    "\n",
    "y_real = np.array([i*0.3+10 for i in x])\n",
    "y_sampled = np.array([(i+random.gauss(0,0.4)) for i in y_real])\n",
    "plt.plot(x,y_real,label='real',ls='--',c='r')\n",
    "plt.scatter(x,y_sampled,label='sampled')\n",
    "plt.show()"
   ]
  },
  {
   "cell_type": "code",
   "execution_count": 35,
   "metadata": {},
   "outputs": [],
   "source": [
    "# Reshaping our matrices and adding on a intercept\n",
    "\n",
    "x = x.reshape(-1,1)\n",
    "x = np.concatenate([x,np.ones((len(x),1))],axis=1)\n",
    "y_sampled = y_sampled.reshape(-1,1)"
   ]
  },
  {
   "cell_type": "code",
   "execution_count": 36,
   "metadata": {},
   "outputs": [
    {
     "data": {
      "text/plain": [
       "array([[ 0.28641421],\n",
       "       [10.14329575]])"
      ]
     },
     "execution_count": 36,
     "metadata": {},
     "output_type": "execute_result"
    }
   ],
   "source": [
    "# running the regression using the normal equation\n",
    "beta = scipy.linalg.inv(x.T@x)@(x.T)@y_sampled\n",
    "beta"
   ]
  },
  {
   "cell_type": "code",
   "execution_count": 37,
   "metadata": {},
   "outputs": [
    {
     "data": {
      "image/png": "[encoded data removed]",
      "text/plain": [
       "<Figure size 432x288 with 1 Axes>"
      ]
     },
     "metadata": {
      "needs_background": "light"
     },
     "output_type": "display_data"
    }
   ],
   "source": [
    "pred_y = x@beta\n",
    "\n",
    "plt.plot(x[:,0].ravel(),y_real,label='real',ls='-',c='r')\n",
    "plt.scatter(x[:,0].ravel(),y_sampled,label='data')\n",
    "plt.plot(x[:,0].ravel(),pred_y,label='ols',c='g',ls='--')\n",
    "plt.legend()\n",
    "plt.show()"
   ]
  },
  {
   "cell_type": "code",
   "execution_count": 38,
   "metadata": {},
   "outputs": [
    {
     "data": {
      "text/plain": [
       "0.18099157761950171"
      ]
     },
     "execution_count": 38,
     "metadata": {},
     "output_type": "execute_result"
    }
   ],
   "source": [
    "resid = pred_y - y_sampled\n",
    "sigma2 = np.sum(resid**2)/(len(x)-2)\n",
    "sigma2"
   ]
  },
  {
   "cell_type": "code",
   "execution_count": 39,
   "metadata": {},
   "outputs": [
    {
     "data": {
      "text/plain": [
       "(20, 20)"
      ]
     },
     "execution_count": 39,
     "metadata": {},
     "output_type": "execute_result"
    }
   ],
   "source": [
    "covar_exog_matrix = np.dot(x,x.T)\n",
    "covar_exog_matrix.shape"
   ]
  },
  {
   "cell_type": "code",
   "execution_count": 40,
   "metadata": {},
   "outputs": [
    {
     "data": {
      "text/plain": [
       "(2, 2)"
      ]
     },
     "execution_count": 40,
     "metadata": {},
     "output_type": "execute_result"
    }
   ],
   "source": [
    "covar_exog_matrix = np.dot(x.T,x)\n",
    "covar_exog_matrix.shape"
   ]
  },
  {
   "cell_type": "code",
   "execution_count": 41,
   "metadata": {},
   "outputs": [
    {
     "data": {
      "text/plain": [
       "array([[617.5,  95. ],\n",
       "       [ 95. ,  20. ]])"
      ]
     },
     "execution_count": 41,
     "metadata": {},
     "output_type": "execute_result"
    }
   ],
   "source": [
    "covar_exog_matrix"
   ]
  },
  {
   "cell_type": "code",
   "execution_count": 42,
   "metadata": {},
   "outputs": [
    {
     "data": {
      "text/plain": [
       "0.08534340030800057"
      ]
     },
     "execution_count": 42,
     "metadata": {},
     "output_type": "execute_result"
    }
   ],
   "source": [
    "math.sqrt(sigma2/math.sqrt(covar_exog_matrix[0,0]))"
   ]
  },
  {
   "cell_type": "code",
   "execution_count": 43,
   "metadata": {},
   "outputs": [
    {
     "data": {
      "text/plain": [
       "0.201173922492985"
      ]
     },
     "execution_count": 43,
     "metadata": {},
     "output_type": "execute_result"
    }
   ],
   "source": [
    "math.sqrt(sigma2/math.sqrt(covar_exog_matrix[1,1]))"
   ]
  },
  {
   "cell_type": "code",
   "execution_count": null,
   "metadata": {},
   "outputs": [],
   "source": [
    "pred_ols = model.predict_with_intervals(X)\n",
    "pred_ols\n",
    "iv_l = pred_ols[\"iv_l\"].values.ravel()\n",
    "iv_u = pred_ols[\"iv_u\"].values.ravel()\n",
    "mean = pred_ols[\"mean\"].values.ravel()"
   ]
  },
  {
   "cell_type": "code",
   "execution_count": 64,
   "metadata": {},
   "outputs": [],
   "source": [
    "# Statsmodel version\n",
    "import statsmodels.api as sm\n",
    "\n",
    "class LinearRegressionSM:\n",
    "    def __init__(self,X,y,*args,**kwargs):\n",
    "        self.ols = sm.OLS(X,y,*args,**kwargs)\n",
    "        self.ols_fitted = None\n",
    "        \n",
    "    def fit(self,*args,**kwargs):\n",
    "        self.ols_fitted = self.ols.fit(*args,**kwargs)\n",
    "        return self\n",
    "    \n",
    "    def predict(self,X,*args,**kwargs):\n",
    "        return self.ols_fitted.predict(exog=X,*args,**kwargs)\n",
    "    \n",
    "    def predict_with_intervals(self,X,alpha=0.05):\n",
    "        #yhat = self.predict(X).ravel()\n",
    "        predictions = self.ols_fitted.get_prediction(exog=X)\n",
    "        summary_frame = predictions.summary_frame(alpha=alpha)\n",
    "        results = {\n",
    "            'iv_l':summary_frame[\"obs_ci_lower\"],\n",
    "            'mean':summary_frame[\"mean\"],\n",
    "            'iv_u':summary_frame[\"obs_ci_upper\"],\n",
    "        }\n",
    "\n",
    "        return results\n",
    "    \n",
    "    def summary(self,*args,**kwargs):\n",
    "        return self.ols_fitted.summary()"
   ]
  },
  {
   "cell_type": "code",
   "execution_count": 65,
   "metadata": {},
   "outputs": [
    {
     "data": {
      "text/html": [
       "<table class=\"simpletable\">\n",
       "<caption>OLS Regression Results</caption>\n",
       "<tr>\n",
       "  <th>Dep. Variable:</th>            <td>y</td>        <th>  R-squared:         </th> <td>   0.807</td>\n",
       "</tr>\n",
       "<tr>\n",
       "  <th>Model:</th>                   <td>OLS</td>       <th>  Adj. R-squared:    </th> <td>   0.796</td>\n",
       "</tr>\n",
       "<tr>\n",
       "  <th>Method:</th>             <td>Least Squares</td>  <th>  F-statistic:       </th> <td>   75.35</td>\n",
       "</tr>\n",
       "<tr>\n",
       "  <th>Date:</th>             <td>Sun, 28 May 2023</td> <th>  Prob (F-statistic):</th> <td>7.52e-08</td>\n",
       "</tr>\n",
       "<tr>\n",
       "  <th>Time:</th>                 <td>21:08:51</td>     <th>  Log-Likelihood:    </th> <td> -10.232</td>\n",
       "</tr>\n",
       "<tr>\n",
       "  <th>No. Observations:</th>      <td>    20</td>      <th>  AIC:               </th> <td>   24.46</td>\n",
       "</tr>\n",
       "<tr>\n",
       "  <th>Df Residuals:</th>          <td>    18</td>      <th>  BIC:               </th> <td>   26.46</td>\n",
       "</tr>\n",
       "<tr>\n",
       "  <th>Df Model:</th>              <td>     1</td>      <th>                     </th>     <td> </td>   \n",
       "</tr>\n",
       "<tr>\n",
       "  <th>Covariance Type:</th>      <td>nonrobust</td>    <th>                     </th>     <td> </td>   \n",
       "</tr>\n",
       "</table>\n",
       "<table class=\"simpletable\">\n",
       "<tr>\n",
       "    <td></td>       <th>coef</th>     <th>std err</th>      <th>t</th>      <th>P>|t|</th>  <th>[0.025</th>    <th>0.975]</th>  \n",
       "</tr>\n",
       "<tr>\n",
       "  <th>x1</th>    <td>    0.2864</td> <td>    0.033</td> <td>    8.681</td> <td> 0.000</td> <td>    0.217</td> <td>    0.356</td>\n",
       "</tr>\n",
       "<tr>\n",
       "  <th>const</th> <td>   10.1433</td> <td>    0.183</td> <td>   55.326</td> <td> 0.000</td> <td>    9.758</td> <td>   10.528</td>\n",
       "</tr>\n",
       "</table>\n",
       "<table class=\"simpletable\">\n",
       "<tr>\n",
       "  <th>Omnibus:</th>       <td> 0.135</td> <th>  Durbin-Watson:     </th> <td>   2.915</td>\n",
       "</tr>\n",
       "<tr>\n",
       "  <th>Prob(Omnibus):</th> <td> 0.935</td> <th>  Jarque-Bera (JB):  </th> <td>   0.356</td>\n",
       "</tr>\n",
       "<tr>\n",
       "  <th>Skew:</th>          <td> 0.039</td> <th>  Prob(JB):          </th> <td>   0.837</td>\n",
       "</tr>\n",
       "<tr>\n",
       "  <th>Kurtosis:</th>      <td> 2.352</td> <th>  Cond. No.          </th> <td>    11.0</td>\n",
       "</tr>\n",
       "</table><br/><br/>Notes:<br/>[1] Standard Errors assume that the covariance matrix of the errors is correctly specified."
      ],
      "text/plain": [
       "<class 'statsmodels.iolib.summary.Summary'>\n",
       "\"\"\"\n",
       "                            OLS Regression Results                            \n",
       "==============================================================================\n",
       "Dep. Variable:                      y   R-squared:                       0.807\n",
       "Model:                            OLS   Adj. R-squared:                  0.796\n",
       "Method:                 Least Squares   F-statistic:                     75.35\n",
       "Date:                Sun, 28 May 2023   Prob (F-statistic):           7.52e-08\n",
       "Time:                        21:08:51   Log-Likelihood:                -10.232\n",
       "No. Observations:                  20   AIC:                             24.46\n",
       "Df Residuals:                      18   BIC:                             26.46\n",
       "Df Model:                           1                                         \n",
       "Covariance Type:            nonrobust                                         \n",
       "==============================================================================\n",
       "                 coef    std err          t      P>|t|      [0.025      0.975]\n",
       "------------------------------------------------------------------------------\n",
       "x1             0.2864      0.033      8.681      0.000       0.217       0.356\n",
       "const         10.1433      0.183     55.326      0.000       9.758      10.528\n",
       "==============================================================================\n",
       "Omnibus:                        0.135   Durbin-Watson:                   2.915\n",
       "Prob(Omnibus):                  0.935   Jarque-Bera (JB):                0.356\n",
       "Skew:                           0.039   Prob(JB):                        0.837\n",
       "Kurtosis:                       2.352   Cond. No.                         11.0\n",
       "==============================================================================\n",
       "\n",
       "Notes:\n",
       "[1] Standard Errors assume that the covariance matrix of the errors is correctly specified.\n",
       "\"\"\""
      ]
     },
     "execution_count": 65,
     "metadata": {},
     "output_type": "execute_result"
    }
   ],
   "source": [
    "from statsmodels.api import OLS\n",
    "\n",
    "model = LinearRegressionSM(y_sampled,x)\n",
    "model = model.fit()\n",
    "model.summary()"
   ]
  },
  {
   "cell_type": "code",
   "execution_count": 66,
   "metadata": {},
   "outputs": [
    {
     "data": {
      "image/png": "[encoded data removed]",
      "text/plain": [
       "<Figure size 432x288 with 1 Axes>"
      ]
     },
     "metadata": {
      "needs_background": "light"
     },
     "output_type": "display_data"
    }
   ],
   "source": [
    "pred_ols = model.predict_with_intervals(x)\n",
    "pred_ols\n",
    "iv_l = pred_ols[\"iv_l\"].values.ravel()\n",
    "iv_u = pred_ols[\"iv_u\"].values.ravel()\n",
    "mean = pred_ols[\"mean\"].values.ravel()\n",
    "\n",
    "\n",
    "#plt.plot(x[:,0].ravel(),y_real,label='real',ls='-',c='r')\n",
    "plt.scatter(x[:,0].ravel(),y_sampled,label='data')\n",
    "plt.plot(x[:,0].ravel(),mean,label='ols',c='g',ls='--')\n",
    "plt.plot(x[:,0].ravel(),iv_u,label='upper_limit',c='k',ls='-')\n",
    "plt.plot(x[:,0].ravel(),iv_l,label='lower_limit',c='k',ls='-')\n",
    "plt.legend()\n",
    "plt.show()"
   ]
  },
  {
   "cell_type": "code",
   "execution_count": 67,
   "metadata": {},
   "outputs": [
    {
     "data": {
      "image/png": "[encoded data removed]",
      "text/plain": [
       "<Figure size 432x288 with 1 Axes>"
      ]
     },
     "metadata": {
      "needs_background": "light"
     },
     "output_type": "display_data"
    }
   ],
   "source": [
    "pred_ols = model.predict_with_intervals(x)\n",
    "pred_ols\n",
    "iv_l = pred_ols[\"iv_l\"].values.ravel()\n",
    "iv_u = pred_ols[\"iv_u\"].values.ravel()\n",
    "mean = pred_ols[\"mean\"].values.ravel()\n",
    "\n",
    "\n",
    "#plt.plot(x[:,0].ravel(),y_real,label='real',ls='-',c='r')\n",
    "plt.scatter(x[:,0].ravel(),np.exp(y_sampled),label='data')\n",
    "plt.plot(x[:,0].ravel(),np.exp(mean),label='ols',c='g',ls='--')\n",
    "plt.plot(x[:,0].ravel(),np.exp(iv_u),label='upper_limit',c='k',ls='-')\n",
    "plt.plot(x[:,0].ravel(),np.exp(iv_l),label='lower_limit',c='k',ls='-')\n",
    "plt.legend()\n",
    "plt.show()"
   ]
  },
  {
   "cell_type": "code",
   "execution_count": 123,
   "metadata": {},
   "outputs": [],
   "source": [
    "from sklearn.linear_model import LinearRegression\n",
    "from scipy.stats import norm\n",
    "\n",
    "class LinearRegressionPlus(LinearRegression):\n",
    "\n",
    "    def fit(self,X,y,*args,**kwargs):\n",
    "        ''' extending the functionality of what the fit function.'''\n",
    "        super().fit(X,y)\n",
    "\n",
    "        self.residuals = y - self.predict(X)\n",
    "        self.residuals_std = np.sqrt((np.sum(self.residuals**2))/(len(y)-2))\n",
    "    \n",
    "    def get_stats():\n",
    "        pass\n",
    "\n",
    "    def predict_intervals(self,X,p_interval = 0.50):\n",
    "        predictions = self.predict(X)\n",
    "        z = norm.ppf((1-p_interval)/2)\n",
    "        lower = predictions - z*self.residuals_std\n",
    "        upper = predictions + z*self.residuals_std\n",
    "        return lower, predictions,upper\n",
    "\n",
    "\n",
    "reg = LinearRegressionPlus()\n",
    "reg.fit(x,y_sampled)"
   ]
  },
  {
   "cell_type": "code",
   "execution_count": 124,
   "metadata": {},
   "outputs": [
    {
     "data": {
      "image/png": "[encoded data removed]",
      "text/plain": [
       "<Figure size 432x288 with 1 Axes>"
      ]
     },
     "metadata": {
      "needs_background": "light"
     },
     "output_type": "display_data"
    }
   ],
   "source": [
    "import pandas as pd\n",
    "l,p,u = reg.predict_intervals(x)\n",
    "axes = pd.DataFrame({'lower':l.ravel(),'mean':p.ravel(),'upper':u.ravel()},index=x[:,0].ravel()).plot()\n",
    "plt.scatter(x[:,0].ravel(),y_sampled.ravel())\n",
    "plt.show()"
   ]
  },
  {
   "cell_type": "code",
   "execution_count": 114,
   "metadata": {},
   "outputs": [
    {
     "data": {
      "text/plain": [
       "0.8289438736915182"
      ]
     },
     "execution_count": 114,
     "metadata": {},
     "output_type": "execute_result"
    }
   ],
   "source": [
    "from scipy.stats import norm\n",
    "\n",
    "norm.cdf(0.95)"
   ]
  },
  {
   "cell_type": "code",
   "execution_count": 115,
   "metadata": {},
   "outputs": [
    {
     "data": {
      "text/plain": [
       "0.5199388058383725"
      ]
     },
     "execution_count": 115,
     "metadata": {},
     "output_type": "execute_result"
    }
   ],
   "source": [
    "norm.cdf(0.05)"
   ]
  },
  {
   "cell_type": "code",
   "execution_count": 118,
   "metadata": {},
   "outputs": [
    {
     "data": {
      "text/plain": [
       "-1.9599639845400545"
      ]
     },
     "execution_count": 118,
     "metadata": {},
     "output_type": "execute_result"
    }
   ],
   "source": [
    "norm.ppf(0.025)"
   ]
  },
  {
   "cell_type": "code",
   "execution_count": 117,
   "metadata": {},
   "outputs": [
    {
     "data": {
      "text/plain": [
       "1.6448536269514722"
      ]
     },
     "execution_count": 117,
     "metadata": {},
     "output_type": "execute_result"
    }
   ],
   "source": [
    "norm.ppf(0.025)"
   ]
  },
  {
   "cell_type": "code",
   "execution_count": null,
   "metadata": {},
   "outputs": [],
   "source": []
  }
 ],
 "metadata": {
  "kernelspec": {
   "display_name": "Python 3",
   "language": "python",
   "name": "python3"
  },
  "language_info": {
   "codemirror_mode": {
    "name": "ipython",
    "version": 3
   },
   "file_extension": ".py",
   "mimetype": "text/x-python",
   "name": "python",
   "nbconvert_exporter": "python",
   "pygments_lexer": "ipython3",
   "version": "3.9.12"
  },
  "orig_nbformat": 4,
  "vscode": {
   "interpreter": {
    "hash": "40d3a090f54c6569ab1632332b64b2c03c39dcf918b08424e98f38b5ae0af88f"
   }
  }
 },
 "nbformat": 4,
 "nbformat_minor": 2
}
